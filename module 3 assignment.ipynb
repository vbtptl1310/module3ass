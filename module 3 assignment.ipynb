{
 "cells": [
  {
   "cell_type": "code",
   "execution_count": null,
   "id": "86853e9e",
   "metadata": {},
   "outputs": [],
   "source": [
    "#What is List? How will you reverse a list?\n",
    "-a list is a collection of things, enclosed in [ ] and separated by commas. \n",
    "-The list is a sequence data type which is used to store the collection of data.\n",
    "\n",
    "reverse a list\n",
    "Using the reversed() method and reverse() method, we can reverse the contents of the list object in place \n",
    "i.e., we don’t need to create a new list instead we just copy the existing elements to the original list in reverse order. \n",
    "This method directly modifies the original list.\n",
    "e.g lst.reverse()\n"
   ]
  },
  {
   "cell_type": "code",
   "execution_count": null,
   "id": "98288859",
   "metadata": {},
   "outputs": [],
   "source": [
    "#How will you remove last object from a list?\n",
    "-The List library contains a large number of methods, but the one which we will be using is a method called List.pop(). \n",
    "This method takes one argument, index. The element at the specified position is deleted by this method.\n",
    "1)ele= list.pop()\n",
    "2)list[start: end]\n",
    "3)del list[-1]"
   ]
  },
  {
   "cell_type": "code",
   "execution_count": 6,
   "id": "a5c13626",
   "metadata": {},
   "outputs": [
    {
     "data": {
      "text/plain": [
       "25"
      ]
     },
     "execution_count": 6,
     "metadata": {},
     "output_type": "execute_result"
    }
   ],
   "source": [
    "#Suppose list1 is [2, 33, 222, 14, and 25], what is list1 [-1]?\n",
    "list1=[2,33,222,14,25]\n",
    "list1[-1]"
   ]
  },
  {
   "cell_type": "code",
   "execution_count": null,
   "id": "9edc0867",
   "metadata": {},
   "outputs": [],
   "source": [
    "# Differentiate between append () and extend () methods?\n",
    "Append()\n",
    "-It adds an element at the end of the list. The argument passed in the append function is added as a single element at \n",
    " end of the list and the length of the list is increased by 1.\n",
    "\n",
    "Syntax:\n",
    "\n",
    "list_name.append(element)\n",
    "\n",
    "extend()\n",
    "-This method appends each element of the iterable (tuple, string, or list) to the end of the list and increases the length \n",
    "of the list by the number of elements of the iterable passed as an argument.\n",
    "\n",
    "Syntax:\n",
    "\n",
    "list_name.extend(iterable)"
   ]
  },
  {
   "cell_type": "code",
   "execution_count": 3,
   "id": "1c828057",
   "metadata": {},
   "outputs": [
    {
     "name": "stdout",
     "output_type": "stream",
     "text": [
      "largest number: 89\n",
      "smallest number: 1\n",
      "sum: 413\n"
     ]
    }
   ],
   "source": [
    "#Write a Python function to get the largest number, smallest num and sum of all from a list.\n",
    "list=[36,45,89,72,63,1,65,42]\n",
    "a=max(list)\n",
    "print(\"largest number:\",a)\n",
    "b=min(list)\n",
    "print(\"smallest number:\",b)\n",
    "\n",
    "sum=0\n",
    "for i in list:\n",
    "    sum+=i\n",
    "print(\"sum:\",sum)    \n",
    "    "
   ]
  },
  {
   "cell_type": "code",
   "execution_count": null,
   "id": "5b64a373",
   "metadata": {},
   "outputs": [],
   "source": [
    "#How will you compare two lists?\n",
    "-Using list.sort() and == operator\n",
    "The list.sort() method sorts the two lists and the == operator compares the two lists item by item which means \n",
    "they have equal data items at equal positions."
   ]
  },
  {
   "cell_type": "code",
   "execution_count": 1,
   "id": "cea5afbe",
   "metadata": {},
   "outputs": [
    {
     "name": "stdout",
     "output_type": "stream",
     "text": [
      "aba\n",
      "1221\n",
      "aba\n"
     ]
    }
   ],
   "source": [
    "#countthenumber of strings where the string length is 2 or more and the first and lastcharacter are samefrom a list of strings.\n",
    "ls= ['abc', 'xyz', 'aba', '1221', 'aba'] \n",
    "for x in ls:\n",
    "    if (len(x)>=2 and x[-1] == x[0]):\n",
    "        print(x)"
   ]
  },
  {
   "cell_type": "code",
   "execution_count": 46,
   "id": "7db10af1",
   "metadata": {},
   "outputs": [
    {
     "name": "stdout",
     "output_type": "stream",
     "text": [
      "{0, 1, 2, 4, 6, 7}\n"
     ]
    }
   ],
   "source": [
    "#Write a Python program to remove duplicates from a list.\n",
    "num=[1, 2, 1, 4, 6, 7, 0, 4, 2]\n",
    "print(set(num))"
   ]
  },
  {
   "cell_type": "code",
   "execution_count": 14,
   "id": "0cd5f2b6",
   "metadata": {},
   "outputs": [
    {
     "name": "stdout",
     "output_type": "stream",
     "text": [
      "list is not empty.\n"
     ]
    }
   ],
   "source": [
    "# Write a Python program to check a list is empty or not\n",
    "list=[]\n",
    "if list == []:\n",
    "    print(\"list is empty.\")\n",
    "else:\n",
    "    print(\"list is not empty.\")"
   ]
  },
  {
   "cell_type": "code",
   "execution_count": 35,
   "id": "20cedca6",
   "metadata": {},
   "outputs": [
    {
     "name": "stdout",
     "output_type": "stream",
     "text": [
      "True\n"
     ]
    }
   ],
   "source": [
    "#Write a Python function that takes two lists and returns true if they have at least one common member.\n",
    "l1=[12,56,48,23,1,34]\n",
    "l2=[23,49,85,71,57,3]\n",
    "for x in l1:\n",
    "    for y in l2:\n",
    "        if x == y:\n",
    "            print('True')           "
   ]
  },
  {
   "cell_type": "code",
   "execution_count": 38,
   "id": "e48d7443",
   "metadata": {},
   "outputs": [
    {
     "name": "stdout",
     "output_type": "stream",
     "text": [
      "[1, 4, 9, 16, 25]\n",
      "[625, 676, 729, 784, 841]\n"
     ]
    }
   ],
   "source": [
    "#print a list of first and last 5 elements where the values are square of numbers between 1 and 30.\n",
    "list=[]\n",
    "for i in range(1,30):\n",
    "    list.append(i**2)\n",
    "print(list[:5])  \n",
    "print(list[-5:])"
   ]
  },
  {
   "cell_type": "code",
   "execution_count": 45,
   "id": "d116d587",
   "metadata": {},
   "outputs": [
    {
     "name": "stdout",
     "output_type": "stream",
     "text": [
      "[1, 2, 3, 4, 5]\n"
     ]
    }
   ],
   "source": [
    "#Write a Python function that takes a list and returns a new list with unique elements of the first list.\n",
    "list=[1,2,3,3,3,3,4,5]\n",
    "x = []\n",
    "for a in list:\n",
    "    if a not in x:\n",
    "        x.append(a)\n",
    "print(x)"
   ]
  },
  {
   "cell_type": "code",
   "execution_count": 52,
   "id": "6c5ff4d0",
   "metadata": {},
   "outputs": [
    {
     "data": {
      "text/plain": [
       "'python program'"
      ]
     },
     "execution_count": 52,
     "metadata": {},
     "output_type": "execute_result"
    }
   ],
   "source": [
    "#Write a Python program to convert a list of characters into a string.\n",
    "list=['p','y','t','h','o','n',' ','p','r','o','g','r','a','m']\n",
    "''.join(list)\n"
   ]
  },
  {
   "cell_type": "code",
   "execution_count": 70,
   "id": "117fa6f7",
   "metadata": {},
   "outputs": [
    {
     "name": "stdout",
     "output_type": "stream",
     "text": [
      "1\n"
     ]
    }
   ],
   "source": [
    "#Write a Python program to select an item randomly from a list.\n",
    "def randomchoice():\n",
    "    my_list = [1, 'a', 32, 'c', 'd', 31]\n",
    "    print(random.choice(my_list))\n",
    "randomchoice()"
   ]
  },
  {
   "cell_type": "code",
   "execution_count": 72,
   "id": "7b8b3b8a",
   "metadata": {},
   "outputs": [
    {
     "name": "stdout",
     "output_type": "stream",
     "text": [
      "Enter the number of elements: 4\n",
      "Enter the elements: 56\n",
      "Enter the elements: 32\n",
      "Enter the elements: 12\n",
      "Enter the elements: 3\n",
      "The sorted list:  [3, 12, 32, 56]\n",
      "The second smallest value of this list:  12\n"
     ]
    }
   ],
   "source": [
    "#Write a Python program to find the second smallest number in a list\n",
    "li = [] \n",
    "n = int(input(\"Enter the number of elements: \"))\n",
    "for i in range(1, n+1): \n",
    "    elem = int(input(\"Enter the elements: \")) \n",
    "    li.append(elem) \n",
    "li.sort() \n",
    "print(\"The sorted list: \", li) \n",
    "print(\"The second smallest value of this list: \",li[1])"
   ]
  },
  {
   "cell_type": "code",
   "execution_count": 77,
   "id": "5dc16623",
   "metadata": {},
   "outputs": [
    {
     "name": "stdout",
     "output_type": "stream",
     "text": [
      "[1, 12, 16, 42, 56, 69, 72]\n"
     ]
    }
   ],
   "source": [
    "#Write a Python program to get unique values from a list\n",
    "list=[12,56,42,42,56,72,69,12,1,16]\n",
    "uniquevalue= []\n",
    "for a in list:\n",
    "    if a not in uniquevalue:\n",
    "        uniquevalue.append(a)\n",
    "uniquevalue.sort()        \n",
    "print(uniquevalue)"
   ]
  },
  {
   "cell_type": "code",
   "execution_count": 19,
   "id": "0facc3ba",
   "metadata": {},
   "outputs": [
    {
     "name": "stdout",
     "output_type": "stream",
     "text": [
      "True\n"
     ]
    }
   ],
   "source": [
    "# Write a Python program to check whether a list contains a sub list   \n",
    "test_list = [9, 4, 5, 8, 10]\n",
    "sub_list = [9,4]\n",
    "flag=0\n",
    "for i in test_list:\n",
    "    for j in sub_list:\n",
    "        if i==j:\n",
    "            flag=1\n",
    "            break\n",
    "if flag==1:            \n",
    "    print(\"True\")\n",
    "else:\n",
    "    print(\"False\")\n",
    "            "
   ]
  },
  {
   "cell_type": "code",
   "execution_count": 8,
   "id": "957d43d5",
   "metadata": {},
   "outputs": [
    {
     "name": "stdout",
     "output_type": "stream",
     "text": [
      "a: ('abc', 'red', 12)\n",
      "b: ('xy', 'blue', 56)\n",
      "c: ('pqr', 'white', 63)\n"
     ]
    }
   ],
   "source": [
    "#Write a Python program to split a list into different variables.\n",
    "list=[('abc','red',12),('xy','blue',56),('pqr','white',63)]\n",
    "a,b,c=list\n",
    "print('a:',a)\n",
    "print('b:',b)\n",
    "print('c:',c)"
   ]
  },
  {
   "cell_type": "code",
   "execution_count": null,
   "id": "9b46a4b9",
   "metadata": {},
   "outputs": [],
   "source": [
    "#What is tuple? Difference between list and tuple.\n",
    "a tuple is a collection of Python objects separated by commas. The tuple is faster than the list because of static in nature. \n",
    "\n",
    "Difference Between List and Tuple in Python\n",
    "    LIST                                                  TUPLE\n",
    "1)Lists are mutable                               \tTuples are immutable\n",
    "2)The implication of iterations                   \tThe implication of iterations is comparatively Faster\n",
    "  is Time-consuming                              \n",
    "3)The list is better for performing operations,   \tTuple data type is appropriate for accessing the elements\n",
    " such as insertion and deletion.\n",
    "4)Lists consume more memory                       \tTuple consumes less memory as compared to the list"
   ]
  },
  {
   "cell_type": "code",
   "execution_count": 9,
   "id": "3df48088",
   "metadata": {},
   "outputs": [
    {
     "data": {
      "text/plain": [
       "('abc', 12, True, 'xyz', 12.2)"
      ]
     },
     "execution_count": 9,
     "metadata": {},
     "output_type": "execute_result"
    }
   ],
   "source": [
    "#Write a Python program to create a tuple with different data types.\n",
    "t=('abc',12,True,\"xyz\",12.2)\n",
    "t"
   ]
  },
  {
   "cell_type": "code",
   "execution_count": 10,
   "id": "8a73a805",
   "metadata": {},
   "outputs": [
    {
     "data": {
      "text/plain": [
       "(12, 23, 56, 89, 45, 14, 36)"
      ]
     },
     "execution_count": 10,
     "metadata": {},
     "output_type": "execute_result"
    }
   ],
   "source": [
    "#Write a Python program to create a tuple with numbers\n",
    "t=(12,23,56,89,45,14,36)\n",
    "t"
   ]
  },
  {
   "cell_type": "code",
   "execution_count": 16,
   "id": "d7bdf02e",
   "metadata": {},
   "outputs": [
    {
     "name": "stdout",
     "output_type": "stream",
     "text": [
      "Hello world\n"
     ]
    }
   ],
   "source": [
    "#Write a Python program to convert a tuple to a string.\n",
    "t=(\"H\",\"e\",\"l\",\"l\",\"o\",\" \",\"w\",\"o\",\"r\",\"l\",\"d\")\n",
    "str=\"\".join(t)\n",
    "print(str)"
   ]
  },
  {
   "cell_type": "code",
   "execution_count": 23,
   "id": "2f0e2a86",
   "metadata": {},
   "outputs": [
    {
     "name": "stdout",
     "output_type": "stream",
     "text": [
      "element not exist\n"
     ]
    }
   ],
   "source": [
    "#Write a Python program to check whether an element exists within a tuple.\n",
    "tuple=('abc',12,True,\"xyz\",12.2,56)\n",
    "N='lk'\n",
    "for element in tuple: \n",
    "    if N==element:\n",
    "        print(\"element exist\")\n",
    "        break\n",
    "else:\n",
    "    print(\"element not exist\")\n",
    "    "
   ]
  },
  {
   "cell_type": "code",
   "execution_count": 24,
   "id": "46aa73c5",
   "metadata": {},
   "outputs": [
    {
     "data": {
      "text/plain": [
       "6"
      ]
     },
     "execution_count": 24,
     "metadata": {},
     "output_type": "execute_result"
    }
   ],
   "source": [
    "# Write a Python program to find the length of a tuple.\n",
    "tuple=('abc',12,True,\"xyz\",12.2,56)\n",
    "len(tuple)"
   ]
  },
  {
   "cell_type": "code",
   "execution_count": 6,
   "id": "787275f0",
   "metadata": {},
   "outputs": [
    {
     "data": {
      "text/plain": [
       "('mango', 'banana', 'apple', 'grapes', 'watermelon')"
      ]
     },
     "execution_count": 6,
     "metadata": {},
     "output_type": "execute_result"
    }
   ],
   "source": [
    "#Write a Python program to convert a list to a tuple.\n",
    "fruits=[\"mango\",\"banana\",\"apple\",\"grapes\",\"watermelon\"]\n",
    "l=list(fruits)\n",
    "fruits=tuple(l)\n",
    "fruits"
   ]
  },
  {
   "cell_type": "code",
   "execution_count": 40,
   "id": "5439c97f",
   "metadata": {},
   "outputs": [
    {
     "data": {
      "text/plain": [
       "(47, 89, 1, 36, 23, 45)"
      ]
     },
     "execution_count": 40,
     "metadata": {},
     "output_type": "execute_result"
    }
   ],
   "source": [
    "# Write a Python program to reverse a tuple.\n",
    "t=(45,23,36,1,89,47)\n",
    "t[::-1]"
   ]
  },
  {
   "cell_type": "code",
   "execution_count": 5,
   "id": "3496aa86",
   "metadata": {},
   "outputs": [
    {
     "data": {
      "text/plain": [
       "('apple', True, 12, 'ab', 85, 52)"
      ]
     },
     "execution_count": 5,
     "metadata": {},
     "output_type": "execute_result"
    }
   ],
   "source": [
    "#Write a Python program to replace last value of tuples in a list\n",
    "l=[\"apple\",True,12,\"ab\",85,63]\n",
    "l[-1]=52\n",
    "l=tuple(l)\n",
    "l"
   ]
  },
  {
   "cell_type": "code",
   "execution_count": 62,
   "id": "1312ed0e",
   "metadata": {},
   "outputs": [
    {
     "name": "stdout",
     "output_type": "stream",
     "text": [
      "repeated 45\n",
      "repeated 12\n",
      "repeated 45\n",
      "repeated 12\n"
     ]
    }
   ],
   "source": [
    "#Write a Python program to find the repeated items of a tuple.\n",
    "t=(45,12,79,42,74,45,1,12)\n",
    "for i in t:\n",
    "    if 1< t.count(i):\n",
    "        print(f'repeated',i)        "
   ]
  },
  {
   "cell_type": "code",
   "execution_count": 96,
   "id": "720eec5b",
   "metadata": {
    "scrolled": true
   },
   "outputs": [
    {
     "data": {
      "text/plain": [
       "[('',), 'dogs', 'cars', 'done', 'eats', 'cats', 'ears']"
      ]
     },
     "execution_count": 96,
     "metadata": {},
     "output_type": "execute_result"
    }
   ],
   "source": [
    "# Write a Python program to remove an empty tuple(s) from a list of tuples.\n",
    "myList = [(), (), ('',), (), 'dogs', 'cars', 'done', 'eats', 'cats', 'ears']\n",
    "myList = [x for x in myList if x]\n",
    "myList"
   ]
  },
  {
   "cell_type": "code",
   "execution_count": 7,
   "id": "e480ed10",
   "metadata": {},
   "outputs": [
    {
     "name": "stdout",
     "output_type": "stream",
     "text": [
      "[('Akshat', 'Bro', 'is', 'Placed'), (1, 2, 3, 4)]\n"
     ]
    }
   ],
   "source": [
    "#Write a Python program to unzip a list of tuples into individual lists\n",
    "list1=[('Akshat', 1), ('Bro', 2), ('is', 3), ('Placed', 4)]\n",
    "mapped=list(zip(*list1))\n",
    "print(mapped)\n"
   ]
  },
  {
   "cell_type": "code",
   "execution_count": 25,
   "id": "2070220c",
   "metadata": {},
   "outputs": [
    {
     "name": "stdout",
     "output_type": "stream",
     "text": [
      "{'akash': 10, 'gaurav': 12, 'anand': 14, 'suraj': 20, 'akhil': 25, 'ashish': 30}\n"
     ]
    }
   ],
   "source": [
    "#Write a Python program to convert a list of tuples into a dictionary.\n",
    "list1=[(\"akash\", 10), (\"gaurav\", 12), (\"anand\", 14), (\"suraj\", 20), (\"akhil\", 25), (\"ashish\", 30)]\n",
    "result=dict(list1)\n",
    "print(result)\n"
   ]
  },
  {
   "cell_type": "code",
   "execution_count": null,
   "id": "a46f0102",
   "metadata": {},
   "outputs": [],
   "source": [
    "#How will you create a dictionary using tuples in python?\n",
    "To create a dictionary from list of tuples in Python, where each tuple is of the form (key, value), pass the list of \n",
    "tuples as argument to dict() builtin function.\n",
    "In this example, we will give a list for tuples as argument to dict() function.\n",
    "\n",
    "Python Program\n",
    "\n",
    "iterable = [('m', 4), ('p', 8)]\n",
    "myDictionary = dict(iterable)\n",
    "print(myDictionary)"
   ]
  },
  {
   "cell_type": "code",
   "execution_count": 30,
   "id": "c76e58d8",
   "metadata": {},
   "outputs": [
    {
     "name": "stdout",
     "output_type": "stream",
     "text": [
      "ascending order: [1, 2, 25, 45]\n",
      "descending order: [45, 25, 2, 1]\n"
     ]
    }
   ],
   "source": [
    "#Write a Python script to sort (ascending and descending) a dictionary by value.\n",
    "d={1:12,12:25,78:45,1:2,96:1}\n",
    "s1=sorted(d.values())\n",
    "s2=sorted(d.values(),reverse=True)\n",
    "print(\"ascending order:\",s1)\n",
    "print(\"descending order:\",s2)\n"
   ]
  },
  {
   "cell_type": "code",
   "execution_count": 32,
   "id": "90b8dfb2",
   "metadata": {},
   "outputs": [
    {
     "name": "stdout",
     "output_type": "stream",
     "text": [
      "{1: 10, 2: 20, 3: 30, 4: 40, 5: 50, 6: 60}\n"
     ]
    }
   ],
   "source": [
    "#Write a Python script to concatenate following dictionaries to create a new one.\n",
    "dic1={1:10, 2:20}\n",
    "dic2={3:30, 4:40}\n",
    "dic3={5:50,6:60}\n",
    "dic4={}\n",
    "for d in (dic1,dic2,dic3):\n",
    "    dic4.update(d)\n",
    "print(dic4)"
   ]
  },
  {
   "cell_type": "code",
   "execution_count": 40,
   "id": "7f265fe3",
   "metadata": {},
   "outputs": [
    {
     "name": "stdout",
     "output_type": "stream",
     "text": [
      "Key does not exist\n"
     ]
    }
   ],
   "source": [
    "#Write a Python script to check if a given key already exists in a dictionary.\n",
    "dict={1:12,12:25,78:45,1:2,96:1}\n",
    "key = 25\n",
    "if key in dict.keys():\n",
    "    print('Key exists')\n",
    "else:\n",
    "    print('Key does not exist')"
   ]
  },
  {
   "cell_type": "code",
   "execution_count": null,
   "id": "fb742b23",
   "metadata": {},
   "outputs": [],
   "source": [
    "#How Do You Traverse Through A Dictionary Object In Python?\n",
    "There are multiple ways to iterate over a dictionary in Python.\n",
    "\n",
    "Access key using the build .keys() \n",
    "Access key without using a key() \n",
    "Iterate through all values using .values()\n",
    "Iterate through all key, and value pairs using items()\n",
    "Access both key and value without using items()\n",
    "Print items in Key-Value in pair "
   ]
  },
  {
   "cell_type": "code",
   "execution_count": null,
   "id": "eaec7572",
   "metadata": {},
   "outputs": [],
   "source": [
    "#How Do You Check The Presence Of A Key In A Dictionary?\n",
    "*Using the Inbuilt method keys() \n",
    "*Using if and in\n",
    "*Using has_key() method\n",
    "*Using has_key() method\n",
    "--<Given a dictionary in Python, write a Python program to check whether a given key already exists in a dictionary.\n",
    "If present, print “Present” and the value of the key. Otherwise, print “Not present”. "
   ]
  },
  {
   "cell_type": "code",
   "execution_count": 34,
   "id": "a965a9cf",
   "metadata": {},
   "outputs": [
    {
     "name": "stdout",
     "output_type": "stream",
     "text": [
      "12 1 "
     ]
    }
   ],
   "source": [
    "#Write a Python script to print a dictionary where the keys are numbers between 1 and 15.\n",
    "dict={12:36,1:9,36:45,12:36}\n",
    "for i in dict:\n",
    "    if 1<=i and i<=15:\n",
    "        print(i, end=\" \")\n"
   ]
  },
  {
   "cell_type": "code",
   "execution_count": 54,
   "id": "3031c781",
   "metadata": {},
   "outputs": [
    {
     "name": "stdout",
     "output_type": "stream",
     "text": [
      "Key exists\n"
     ]
    }
   ],
   "source": [
    "# Write a Python program to check multiple keys exists in a dictionary\n",
    "dict={1:12,12:25,78:45,1:2,96:1}\n",
    "for key in (1,78,12):\n",
    "    if key in dict: \n",
    "        print('Key exists')\n",
    "        break\n",
    "    else:\n",
    "        print('Key does not exist')\n",
    "        break"
   ]
  },
  {
   "cell_type": "code",
   "execution_count": 6,
   "id": "be7a0ced",
   "metadata": {},
   "outputs": [
    {
     "name": "stdout",
     "output_type": "stream",
     "text": [
      "{'apple': 2, 'orange': 3, 'tangerine': 5, 'cashew': 3, 'almond': 4}\n"
     ]
    }
   ],
   "source": [
    "#Write a Python script to merge two Python dictionaries\n",
    "fruits = {\"apple\": 2, \"orange\" : 3, \"tangerine\": 5}\n",
    "dry_fruits = {\"cashew\": 3, \"almond\": 4}\n",
    "fruits.update(dry_fruits)\n",
    "print(fruits)\n"
   ]
  },
  {
   "cell_type": "code",
   "execution_count": 8,
   "id": "1752195b",
   "metadata": {},
   "outputs": [
    {
     "name": "stdout",
     "output_type": "stream",
     "text": [
      "{('abc', 4), ('xyz', 3), ('dfd', 2)}\n"
     ]
    }
   ],
   "source": [
    "# Write a Python program to map two lists into a dictionary\n",
    "name=[\"abc\",\"xyz\",\"dfd\"]\n",
    "rollno=[4,3,2]\n",
    "mapped=zip(name,rollno)\n",
    "print(set(mapped))"
   ]
  },
  {
   "cell_type": "code",
   "execution_count": 10,
   "id": "e439a9a4",
   "metadata": {},
   "outputs": [
    {
     "name": "stdout",
     "output_type": "stream",
     "text": [
      "Counter({'a': 400, 'b': 400, 'd': 400, 'c': 300})\n"
     ]
    }
   ],
   "source": [
    "#Write a Python program to combine two dictionary adding values for common keys.\n",
    "#o d1 = {'a': 100, 'b': 200, 'c':300}\n",
    "#o d2 = {'a': 300, 'b': 200,’d’:400}\n",
    "#Sample output: Counter ({'a': 400, 'b': 400,’d’: 400, 'c': 300}).\n",
    "\n",
    "from collections import Counter\n",
    "d1 = {'a': 100, 'b': 200, 'c': 300}\n",
    "d2 = {'a': 300, 'b': 200, 'd': 400}\n",
    "\n",
    "res = Counter(d1) + Counter(d2)\n",
    "print(res)"
   ]
  },
  {
   "cell_type": "code",
   "execution_count": 29,
   "id": "86e7ada9",
   "metadata": {},
   "outputs": [
    {
     "name": "stdout",
     "output_type": "stream",
     "text": [
      "['Vishnu', 'Ram', 'sita']\n"
     ]
    }
   ],
   "source": [
    "#Write a Python program to print all unique values in a dictionary.\n",
    "d= {'511':'Vishnu','512':'Vishnu','513':'Ram','514':'Ram','515':'sita'}\n",
    "list=[]\n",
    "for val in d.values(): \n",
    "    if val in list: \n",
    "        continue \n",
    "    else:\n",
    "        list.append(val)\n",
    "print(list)\n"
   ]
  },
  {
   "cell_type": "code",
   "execution_count": null,
   "id": "65248c62",
   "metadata": {},
   "outputs": [],
   "source": [
    "# Why Do You Use the Zip () Method in Python.\n",
    "Python zip() method takes iterable or containers and returns a single iterator object, having mapped values from all \n",
    "the containers. \n",
    "\n",
    "It is used to map the similar index of multiple containers so that they can be used just using a single entity. \n",
    "\n",
    "Syntax :  zip(*iterators) "
   ]
  },
  {
   "cell_type": "code",
   "execution_count": 8,
   "id": "5837901d",
   "metadata": {},
   "outputs": [
    {
     "name": "stdout",
     "output_type": "stream",
     "text": [
      "ac\n",
      "ad\n",
      "bc\n",
      "bd\n"
     ]
    }
   ],
   "source": [
    "# Write a Python program to create and display all combinations of letters,\n",
    "#selecting each letter from a different key in a dictionary.\n",
    "#Sample data: {'1': ['a','b'], '2': ['c','d']}\n",
    "#Expected Output: ac ad bc bd\n",
    "\n",
    "my_dict= {'1':['a', 'b'], '2':['c', 'd']}\n",
    "my_list= list(my_dict.values())\n",
    "for i in my_list[0]:\n",
    "    for j in my_list[1]:\n",
    "        print(i+j)"
   ]
  },
  {
   "cell_type": "code",
   "execution_count": 36,
   "id": "bb47e6d2",
   "metadata": {},
   "outputs": [
    {
     "name": "stdout",
     "output_type": "stream",
     "text": [
      "Values:\n",
      "45\n",
      "25\n",
      "12\n"
     ]
    }
   ],
   "source": [
    "#Write a Python program to find the highest 3 values in a dictionary\n",
    "\n",
    "from collections import Counter\n",
    "my_dict ={13:12,12:25,78:45,1:2,96:1} \n",
    "k = Counter(my_dict)\n",
    "high = k.most_common(3)\n",
    "print(\"Values:\")\n",
    "for i in high:\n",
    "    print(i[1])"
   ]
  },
  {
   "cell_type": "code",
   "execution_count": 26,
   "id": "52441300",
   "metadata": {},
   "outputs": [
    {
     "name": "stdout",
     "output_type": "stream",
     "text": [
      "Highest 3 values  [45, 25, 12]\n"
     ]
    }
   ],
   "source": [
    "dic = {13:12,12:25,78:45,1:2,96:1}\n",
    "val = list( dic.values() )\n",
    "val.sort()\n",
    "print(\"Highest 3 values \",val[ - 1 : - 4 : - 1])"
   ]
  },
  {
   "cell_type": "code",
   "execution_count": 1,
   "id": "bbe4505f",
   "metadata": {},
   "outputs": [
    {
     "name": "stdout",
     "output_type": "stream",
     "text": [
      "Counter({'item1': 1150, 'item2': 300})\n"
     ]
    }
   ],
   "source": [
    "#Write a Python program to combine values in python list of dictionaries. \n",
    "#Sample data: [{'item': 'item1', 'amount': 400}, {'item': 'item2', 'amount': 300},{'item': 'item1', 'amount': 750}]\n",
    "#o Expected Output: Counter ({'item1': 1150, 'item2': 300})\n",
    "\n",
    "from collections import Counter\n",
    "list = [{'item': 'item1', 'amount': 400}, {'item': 'item2', 'amount': 300}, {'item': 'item1', 'amount': 750}]\n",
    "result = Counter()\n",
    "for d in list:\n",
    "    result[d['item']] += d['amount']\n",
    "print(result) \n"
   ]
  },
  {
   "cell_type": "code",
   "execution_count": 8,
   "id": "63d6878d",
   "metadata": {},
   "outputs": [
    {
     "name": "stdout",
     "output_type": "stream",
     "text": [
      "{'w': 1, '3': 1, 'r': 2, 'e': 2, 's': 1, 'o': 1, 'u': 1, 'c': 1}\n"
     ]
    }
   ],
   "source": [
    "#Write a Python program to create a dictionary from a string.\n",
    "#o Note: Track the count of the letters from the string. Sample string:'w3resource'\n",
    "#o Expected output: {'3': 1,’s’: 1, 'r': 2, 'u': 1, 'w': 1, 'c': 1, 'e': 2, 'o': 1}\n",
    "\n",
    "from collections import Counter\n",
    "str1 = 'w3resource' \n",
    "dict = {}\n",
    "for letter in str1:\n",
    "    dict[letter] = dict.get(letter,0)+1\n",
    "print(dict)\n"
   ]
  },
  {
   "cell_type": "code",
   "execution_count": 11,
   "id": "57be127d",
   "metadata": {},
   "outputs": [
    {
     "data": {
      "text/plain": [
       "120"
      ]
     },
     "execution_count": 11,
     "metadata": {},
     "output_type": "execute_result"
    }
   ],
   "source": [
    "#Write a Python function to calculate the factorial of a number (a non\u0002negative integer)\n",
    "def factorial(n):\n",
    "    if n<=1:\n",
    "        return 1\n",
    "    else:\n",
    "        return n*(factorial(n-1))\n",
    "factorial(5)    \n",
    "    "
   ]
  },
  {
   "cell_type": "code",
   "execution_count": 4,
   "id": "18461058",
   "metadata": {},
   "outputs": [
    {
     "name": "stdout",
     "output_type": "stream",
     "text": [
      "False\n"
     ]
    }
   ],
   "source": [
    "#Write a Python function to check whether a number is perfect or not.\n",
    "\n",
    "def perfect_number(n):\n",
    "    sum = 0\n",
    "    for x in range(1, n):\n",
    "        if n % x == 0:\n",
    "            sum += x\n",
    "    return sum == n\n",
    "print(perfect_number(7))"
   ]
  },
  {
   "cell_type": "code",
   "execution_count": 44,
   "id": "bb445e6f",
   "metadata": {},
   "outputs": [
    {
     "data": {
      "text/plain": [
       "True"
      ]
     },
     "execution_count": 44,
     "metadata": {},
     "output_type": "execute_result"
    }
   ],
   "source": [
    "#Write a Python function that checks whether a passed string is palindrome or not\n",
    "def isPalindrome(s):\n",
    "    return s == s[::-1]\n",
    "    if ans==s:\n",
    "        print(\"Yes\")\n",
    "    else:\n",
    "        print(\"No\")\n",
    "isPalindrome(\"madam\")        \n",
    "        "
   ]
  },
  {
   "cell_type": "code",
   "execution_count": null,
   "id": "a64bc644",
   "metadata": {},
   "outputs": [],
   "source": [
    "# How do you perform pattern matching in Python? Explain\n",
    "*Pattern matching in Python with Regex:\n",
    "--------------------------------------    \n",
    "Regular expressions, called regexes for short, are descriptions for a pattern of text. For example, a \\d in a regex stands\n",
    "for a digit character — that is, any single numeral 0 to 9.\n",
    "\n",
    "Following regex is used in Python to match a string of three numbers, a hyphen, three more numbers, another hyphen, and\n",
    "four numbers.\n",
    "Any other string would not match the pattern.\n",
    "\\d\\d\\d-\\d\\d\\d-\\d\\d\\d\\d\n",
    "Regular expressions can be much more sophisticated. For example, adding a 3 in curly brackets ({3}) after a pattern is\n",
    "like saying, “ Match this pattern three times.” So the slightly shorter regex\n",
    "\\d{3}-\\d{3}-\\d{4}"
   ]
  },
  {
   "cell_type": "code",
   "execution_count": null,
   "id": "bea03cae",
   "metadata": {},
   "outputs": [],
   "source": [
    "#What is lambda function in python? What we call a function which is incomplete version of a function?\n",
    "Python Lambda Functions are anonymous function means that the function is without a name. As we already know that the\n",
    "def keyword is used to define a normal function in Python. Similarly, the lambda keyword is used to define an anonymous\n",
    "function in Python. \n",
    "\n",
    "Python Lambda Function \n",
    "\n",
    "Syntax:\n",
    "\n",
    "lambda arguments: expression"
   ]
  },
  {
   "cell_type": "code",
   "execution_count": null,
   "id": "018d791e",
   "metadata": {},
   "outputs": [],
   "source": [
    "#How Many Basic Types Of Functions Are Available In Python?\n",
    "There are two types of functions available in python. These are:\n",
    "\n",
    "1)Built-in Functions or Pre-defined\n",
    "2)User-defined Functions\n",
    "\n",
    "1). Built-in Functions:\n",
    "Built-in functions are the functions that are already written or defined in python. We only need to remember the \n",
    "names of built-in functions and the parameters used in the functions. As these functions are already defined so we \n",
    "do not need to define these functions. \n",
    "\n",
    "2). User-Defined Functions: \n",
    "The functions defined by a programmer to reduce the complexity of big problems and to use that function according to their need.\n",
    "This type of functions is called user-defined functions."
   ]
  },
  {
   "cell_type": "code",
   "execution_count": 48,
   "id": "33f19137",
   "metadata": {},
   "outputs": [
    {
     "data": {
      "text/plain": [
       "63"
      ]
     },
     "execution_count": 48,
     "metadata": {},
     "output_type": "execute_result"
    }
   ],
   "source": [
    "#How can you pick a random item from a list or tuple?\n",
    "#The choice() function is useful for this purpose. It returns on item randomly selected from any sequence object \n",
    "#Choice(seq) − Returns a random item from a list, tuple, or string.\n",
    "#example:\n",
    "\n",
    "import random as r\n",
    "list=[12,34,2,45,78,63]\n",
    "r.choice(list)\n"
   ]
  },
  {
   "cell_type": "code",
   "execution_count": 3,
   "id": "d7c6b150",
   "metadata": {},
   "outputs": [
    {
     "data": {
      "text/plain": [
       "126"
      ]
     },
     "execution_count": 3,
     "metadata": {},
     "output_type": "execute_result"
    }
   ],
   "source": [
    "#How can you pick a random item from a range?\n",
    "import random as r\n",
    "r.choice(range(100,999))"
   ]
  },
  {
   "cell_type": "code",
   "execution_count": 50,
   "id": "af43f810",
   "metadata": {},
   "outputs": [
    {
     "data": {
      "text/plain": [
       "78"
      ]
     },
     "execution_count": 50,
     "metadata": {},
     "output_type": "execute_result"
    }
   ],
   "source": [
    "#How can you get a random number in python?\n",
    "import random as r\n",
    "num=[21,1,42,89,78,12]\n",
    "r.choice(num)"
   ]
  },
  {
   "cell_type": "code",
   "execution_count": 52,
   "id": "8ba60881",
   "metadata": {},
   "outputs": [
    {
     "name": "stdout",
     "output_type": "stream",
     "text": [
      "A random number between 0 and 1 is : 0.09581080343649384\n"
     ]
    }
   ],
   "source": [
    "# How will you set the starting value in generating random numbers?\n",
    "# importing \"random\" for random operations\n",
    "import random\n",
    "  \n",
    "# using random() to generate a random number\n",
    "# between 0 and 1\n",
    "print(\"A random number between 0 and 1 is : \", end=\"\")\n",
    "print(random.random())"
   ]
  },
  {
   "cell_type": "code",
   "execution_count": null,
   "id": "58505b3e",
   "metadata": {},
   "outputs": [],
   "source": [
    "#How will you randomizes the items of a list in place?\n",
    "The method shuffle () can be used to randomize the items of a list in place. It should be noted that this function is not \n",
    "accessible directly and therefore we need to import or call this function using random static object. Here, ‘lst’ is passed as\n",
    "a parameter which could be a list or tuple.\n",
    "The shuffle () returns a reshuffled list of items."
   ]
  },
  {
   "cell_type": "code",
   "execution_count": 54,
   "id": "eb300291",
   "metadata": {},
   "outputs": [
    {
     "name": "stdout",
     "output_type": "stream",
     "text": [
      "180 / pi Degrees is equal to Radians : 1.0\n",
      "180 Degrees is equal to Radians : 3.141592653589793\n",
      "1 Degrees is equal to Radians : 0.017453292519943295\n"
     ]
    }
   ],
   "source": [
    "#Write a Python program to convert degree to radian\n",
    "import math\n",
    " \n",
    "# Printing radians equivalents.\n",
    "print(\"180 / pi Degrees is equal to Radians : \", end =\"\")\n",
    "print (math.radians(180 / math.pi))\n",
    " \n",
    "print(\"180 Degrees is equal to Radians : \", end =\"\")\n",
    "print (math.radians(180))\n",
    " \n",
    "print(\"1 Degrees is equal to Radians : \", end =\"\")\n",
    "print (math.radians(1))"
   ]
  },
  {
   "cell_type": "code",
   "execution_count": 56,
   "id": "79f9d935",
   "metadata": {},
   "outputs": [
    {
     "name": "stdout",
     "output_type": "stream",
     "text": [
      "Area is: 54.0\n"
     ]
    }
   ],
   "source": [
    "#Write a Python program to calculate the area of a trapezoid\n",
    "def Area(b1, b2, h):\n",
    "    return ((b1 + b2) / 2) * h\n",
    " \n",
    "base1 = 8; base2 = 10; height = 6\n",
    "area = Area(base1, base2, height)\n",
    "print(\"Area is:\", area)"
   ]
  },
  {
   "cell_type": "code",
   "execution_count": 2,
   "id": "9e06f608",
   "metadata": {},
   "outputs": [
    {
     "name": "stdout",
     "output_type": "stream",
     "text": [
      "Area of the parallelogram = 1200\n"
     ]
    }
   ],
   "source": [
    "#Write a Python program to calculate the area of a parallelogram\n",
    "base = 30\n",
    "height = 40 \n",
    " \n",
    "# formula for finding the area\n",
    "area_parallelogram = base * height\n",
    " \n",
    "# displaying the output\n",
    "print(\"Area of the parallelogram = \"+str(area_parallelogram))"
   ]
  },
  {
   "cell_type": "code",
   "execution_count": 1,
   "id": "2540ab2a",
   "metadata": {},
   "outputs": [
    {
     "name": "stdout",
     "output_type": "stream",
     "text": [
      "Height of cylinder: 4\n",
      "Radius of cylinder: 6\n",
      "Volume is:  452.57142857142856\n",
      "Surface Area is:  377.1428571428571\n"
     ]
    }
   ],
   "source": [
    "# Write a Python program to calculate surface volume and area of a cylinder\n",
    "pi=22/7\n",
    "height = float(input('Height of cylinder: '))\n",
    "radian = float(input('Radius of cylinder: '))\n",
    "volume = pi * radian * radian * height\n",
    "sur_area = ((2*pi*radian) * height) + ((pi*radian**2)*2)\n",
    "print(\"Volume is: \", volume)\n",
    "print(\"Surface Area is: \", sur_area)\n",
    "\n"
   ]
  },
  {
   "cell_type": "code",
   "execution_count": 2,
   "id": "8de63f97",
   "metadata": {},
   "outputs": [
    {
     "name": "stdout",
     "output_type": "stream",
     "text": [
      "7\n",
      "16\n"
     ]
    }
   ],
   "source": [
    "#Write a Python program to returns sum of all divisors of a number\n",
    "def sum_div(number):\n",
    "    divisors = [1]\n",
    "    for i in range(2, number):\n",
    "        if (number % i)==0:\n",
    "            divisors.append(i)\n",
    "    return sum(divisors)\n",
    "print(sum_div(8))\n",
    "print(sum_div(12))"
   ]
  },
  {
   "cell_type": "code",
   "execution_count": 3,
   "id": "e331f3cd",
   "metadata": {},
   "outputs": [
    {
     "name": "stdout",
     "output_type": "stream",
     "text": [
      "Maximum:  7.25\n",
      "Minimum:  0.04\n"
     ]
    }
   ],
   "source": [
    "#Write a Python program to find the maximum and minimum numbers from the specified decimal numbers.\n",
    "\n",
    "from decimal import *\n",
    "data = list(map(Decimal, '2.45 2.69 2.45 3.45 2.00 0.04 7.25'.split()))\n",
    "print(\"Maximum: \", max(data))\n",
    "print(\"Minimum: \", min(data))\n"
   ]
  }
 ],
 "metadata": {
  "kernelspec": {
   "display_name": "Python 3 (ipykernel)",
   "language": "python",
   "name": "python3"
  },
  "language_info": {
   "codemirror_mode": {
    "name": "ipython",
    "version": 3
   },
   "file_extension": ".py",
   "mimetype": "text/x-python",
   "name": "python",
   "nbconvert_exporter": "python",
   "pygments_lexer": "ipython3",
   "version": "3.9.12"
  }
 },
 "nbformat": 4,
 "nbformat_minor": 5
}
